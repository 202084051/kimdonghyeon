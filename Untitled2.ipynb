{
 "cells": [
  {
   "cell_type": "code",
   "execution_count": 3,
   "id": "1d0a850b-99f7-4d68-9596-0ac80f75552c",
   "metadata": {},
   "outputs": [
    {
     "name": "stdout",
     "output_type": "stream",
     "text": [
      "10+4.500=14.5\n"
     ]
    }
   ],
   "source": [
    "a=10\n",
    "b=4.5\n",
    "\n",
    "print('{}+{:3.3f}={}'.format(a,b,a+b))"
   ]
  },
  {
   "cell_type": "code",
   "execution_count": 5,
   "id": "8d450cdf-a643-48dd-bf5d-ca37afd533f5",
   "metadata": {},
   "outputs": [
    {
     "name": "stdout",
     "output_type": "stream",
     "text": [
      "10+4.500=14.5\n"
     ]
    }
   ],
   "source": [
    "print(f'{a}+{b:3.3f}={a+b}')"
   ]
  },
  {
   "cell_type": "code",
   "execution_count": 6,
   "id": "e3b9e7ba-0e62-4399-a2b8-2ea045a9375e",
   "metadata": {},
   "outputs": [
    {
     "data": {
      "text/plain": [
       "(True, False)"
      ]
     },
     "execution_count": 6,
     "metadata": {},
     "output_type": "execute_result"
    }
   ],
   "source": [
    "True, False"
   ]
  },
  {
   "cell_type": "code",
   "execution_count": 8,
   "id": "2dc53787-7c86-4c8e-a93a-b8077c201c4e",
   "metadata": {},
   "outputs": [
    {
     "data": {
      "text/plain": [
       "bool"
      ]
     },
     "execution_count": 8,
     "metadata": {},
     "output_type": "execute_result"
    }
   ],
   "source": [
    "type(True)"
   ]
  },
  {
   "cell_type": "code",
   "execution_count": 9,
   "id": "fb078bad-243f-4505-b683-0a419ce76b04",
   "metadata": {},
   "outputs": [
    {
     "data": {
      "text/plain": [
       "False"
      ]
     },
     "execution_count": 9,
     "metadata": {},
     "output_type": "execute_result"
    }
   ],
   "source": [
    "True and False"
   ]
  },
  {
   "cell_type": "code",
   "execution_count": 11,
   "id": "b9d4c275-22d5-4ebe-8798-8fdbe6b09c37",
   "metadata": {},
   "outputs": [
    {
     "data": {
      "text/plain": [
       "True"
      ]
     },
     "execution_count": 11,
     "metadata": {},
     "output_type": "execute_result"
    }
   ],
   "source": [
    "True and True"
   ]
  },
  {
   "cell_type": "code",
   "execution_count": 12,
   "id": "e102e90b-9b21-4fba-87e3-2382f77e737d",
   "metadata": {},
   "outputs": [
    {
     "data": {
      "text/plain": [
       "True"
      ]
     },
     "execution_count": 12,
     "metadata": {},
     "output_type": "execute_result"
    }
   ],
   "source": [
    "True or False"
   ]
  },
  {
   "cell_type": "code",
   "execution_count": 13,
   "id": "927bc159-b74f-4b81-92b1-23c815b88fc3",
   "metadata": {},
   "outputs": [
    {
     "data": {
      "text/plain": [
       "False"
      ]
     },
     "execution_count": 13,
     "metadata": {},
     "output_type": "execute_result"
    }
   ],
   "source": [
    "not True"
   ]
  },
  {
   "cell_type": "code",
   "execution_count": 14,
   "id": "56fba694-101f-4991-87dc-0e918fe19c0f",
   "metadata": {},
   "outputs": [
    {
     "data": {
      "text/plain": [
       "True"
      ]
     },
     "execution_count": 14,
     "metadata": {},
     "output_type": "execute_result"
    }
   ],
   "source": [
    "not False"
   ]
  },
  {
   "cell_type": "code",
   "execution_count": 15,
   "id": "258b5d67-188c-486c-9be1-fa1992bb4d4a",
   "metadata": {},
   "outputs": [
    {
     "data": {
      "text/plain": [
       "True"
      ]
     },
     "execution_count": 15,
     "metadata": {},
     "output_type": "execute_result"
    }
   ],
   "source": [
    "#XOR\n",
    "\n",
    "True ^ False"
   ]
  },
  {
   "cell_type": "code",
   "execution_count": 18,
   "id": "f338bf88-d8ae-47b5-842c-e7c3300a5a04",
   "metadata": {},
   "outputs": [
    {
     "name": "stdin",
     "output_type": "stream",
     "text": [
      "키(cm)와 몸무게(kg)를 입력하세요>> 180 69\n"
     ]
    },
    {
     "name": "stdout",
     "output_type": "stream",
     "text": [
      "정상,True\n"
     ]
    }
   ],
   "source": [
    "h,w=input('키(cm)와 몸무게(kg)를 입력하세요>>').split()\n",
    "h=float(h)\n",
    "w=float(w)\n",
    "\n",
    "bmi=w/(h/100)**2\n",
    "\n",
    "print(f'정상,{18.5<=bmi<25}')"
   ]
  },
  {
   "cell_type": "code",
   "execution_count": 23,
   "id": "609a0751-e037-44b5-927b-399a74593972",
   "metadata": {},
   "outputs": [
    {
     "data": {
      "text/plain": [
       "False"
      ]
     },
     "execution_count": 23,
     "metadata": {},
     "output_type": "execute_result"
    }
   ],
   "source": [
    "# in not in\n",
    "test='123567890'\n",
    "\n",
    "'4' in test\n"
   ]
  },
  {
   "cell_type": "code",
   "execution_count": null,
   "id": "769d905c-179c-4372-bff4-b267436ca5a9",
   "metadata": {},
   "outputs": [],
   "source": []
  }
 ],
 "metadata": {
  "kernelspec": {
   "display_name": "Python 3 (ipykernel)",
   "language": "python",
   "name": "python3"
  },
  "language_info": {
   "codemirror_mode": {
    "name": "ipython",
    "version": 3
   },
   "file_extension": ".py",
   "mimetype": "text/x-python",
   "name": "python",
   "nbconvert_exporter": "python",
   "pygments_lexer": "ipython3",
   "version": "3.9.7"
  }
 },
 "nbformat": 4,
 "nbformat_minor": 5
}
