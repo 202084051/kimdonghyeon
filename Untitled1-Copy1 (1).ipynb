{
 "cells": [
  {
   "cell_type": "code",
   "execution_count": 6,
   "id": "9b5cbead-7679-4b6b-a489-92f5c4238eca",
   "metadata": {},
   "outputs": [
    {
     "name": "stdout",
     "output_type": "stream",
     "text": [
      "012345\n",
      "python\n"
     ]
    }
   ],
   "source": [
    "test='python'\n",
    "print('012345')\n",
    "print(test)"
   ]
  },
  {
   "cell_type": "code",
   "execution_count": 2,
   "id": "068133f8-edc8-4946-ac01-7116caddb876",
   "metadata": {},
   "outputs": [
    {
     "data": {
      "text/plain": [
       "'p'"
      ]
     },
     "execution_count": 2,
     "metadata": {},
     "output_type": "execute_result"
    }
   ],
   "source": [
    "test[0]"
   ]
  },
  {
   "cell_type": "code",
   "execution_count": 3,
   "id": "b8e7df1a-c704-48fe-9d2c-b60bce711700",
   "metadata": {},
   "outputs": [
    {
     "data": {
      "text/plain": [
       "'t'"
      ]
     },
     "execution_count": 3,
     "metadata": {},
     "output_type": "execute_result"
    }
   ],
   "source": [
    "test[-4]"
   ]
  },
  {
   "cell_type": "code",
   "execution_count": 4,
   "id": "b302ddf8-74f1-48ac-9ccd-6b7127808cc6",
   "metadata": {},
   "outputs": [
    {
     "data": {
      "text/plain": [
       "'yth'"
      ]
     },
     "execution_count": 4,
     "metadata": {},
     "output_type": "execute_result"
    }
   ],
   "source": [
    "test[1:4] #1, 2, 3,"
   ]
  },
  {
   "cell_type": "code",
   "execution_count": 5,
   "id": "c93a376c-aaa8-48e8-8221-159892093577",
   "metadata": {},
   "outputs": [
    {
     "data": {
      "text/plain": [
       "'pyth'"
      ]
     },
     "execution_count": 5,
     "metadata": {},
     "output_type": "execute_result"
    }
   ],
   "source": [
    "test[-6:-2] #-6, -5, -4, -3"
   ]
  },
  {
   "cell_type": "code",
   "execution_count": 7,
   "id": "136ab54a-2172-43a4-b90e-50fa8a98ef27",
   "metadata": {},
   "outputs": [
    {
     "data": {
      "text/plain": [
       "'ohty'"
      ]
     },
     "execution_count": 7,
     "metadata": {},
     "output_type": "execute_result"
    }
   ],
   "source": [
    "test[-2:-6:-1]"
   ]
  },
  {
   "cell_type": "code",
   "execution_count": 8,
   "id": "6383d836-4201-484e-9b67-bd02481cb285",
   "metadata": {},
   "outputs": [
    {
     "data": {
      "text/plain": [
       "'pto'"
      ]
     },
     "execution_count": 8,
     "metadata": {},
     "output_type": "execute_result"
    }
   ],
   "source": [
    "test[::2]"
   ]
  },
  {
   "cell_type": "code",
   "execution_count": 9,
   "id": "7b4823c7-4455-4e35-b6f9-81c16ad18403",
   "metadata": {},
   "outputs": [
    {
     "data": {
      "text/plain": [
       "'ph'"
      ]
     },
     "execution_count": 9,
     "metadata": {},
     "output_type": "execute_result"
    }
   ],
   "source": [
    "test[::3]"
   ]
  },
  {
   "cell_type": "code",
   "execution_count": 10,
   "id": "087d167e-71cf-4aa2-a3b1-e79d4fa6e2d4",
   "metadata": {},
   "outputs": [
    {
     "data": {
      "text/plain": [
       "'nohtyp'"
      ]
     },
     "execution_count": 10,
     "metadata": {},
     "output_type": "execute_result"
    }
   ],
   "source": [
    "test[::-1]"
   ]
  },
  {
   "cell_type": "code",
   "execution_count": 14,
   "id": "5eb4d545-7e08-4fac-96c6-e6abbb01af92",
   "metadata": {},
   "outputs": [
    {
     "data": {
      "text/plain": [
       "(65, 66)"
      ]
     },
     "execution_count": 14,
     "metadata": {},
     "output_type": "execute_result"
    }
   ],
   "source": [
    "ord('A'), ord('B')"
   ]
  },
  {
   "cell_type": "code",
   "execution_count": 13,
   "id": "b093e304-8391-48f7-b014-753c140b4460",
   "metadata": {},
   "outputs": [
    {
     "data": {
      "text/plain": [
       "44032"
      ]
     },
     "execution_count": 13,
     "metadata": {},
     "output_type": "execute_result"
    }
   ],
   "source": [
    "ord('가')"
   ]
  },
  {
   "cell_type": "code",
   "execution_count": 15,
   "id": "39d1e31e-7086-40f3-88ff-438924675269",
   "metadata": {},
   "outputs": [
    {
     "data": {
      "text/plain": [
       "'A'"
      ]
     },
     "execution_count": 15,
     "metadata": {},
     "output_type": "execute_result"
    }
   ],
   "source": [
    "chr(65)"
   ]
  },
  {
   "cell_type": "code",
   "execution_count": 20,
   "id": "10fa72e2-5d09-47a4-bab6-dcd28c50aba1",
   "metadata": {},
   "outputs": [
    {
     "name": "stdout",
     "output_type": "stream",
     "text": [
      "백슬래시 출력:\\\\ \n",
      " 줄바꿈:\\n \n",
      " 탭: \t \" '탭!\n"
     ]
    }
   ],
   "source": [
    "print('백슬래시 출력:\\\\\\\\ \\n 줄바꿈:\\\\n \\n 탭: \\t \\\" \\'탭!')"
   ]
  },
  {
   "cell_type": "code",
   "execution_count": 21,
   "id": "32f47119-93c6-42eb-9753-45972541ca41",
   "metadata": {},
   "outputs": [],
   "source": [
    "test='사과는 맛있는 과일입니다.'"
   ]
  },
  {
   "cell_type": "code",
   "execution_count": 22,
   "id": "d4de3435-5281-42dd-9b98-49fd30f685ed",
   "metadata": {},
   "outputs": [
    {
     "data": {
      "text/plain": [
       "'사과는 맛있는 과일입니다.'"
      ]
     },
     "execution_count": 22,
     "metadata": {},
     "output_type": "execute_result"
    }
   ],
   "source": [
    "test"
   ]
  }
 ],
 "metadata": {
  "kernelspec": {
   "display_name": "Python 3 (ipykernel)",
   "language": "python",
   "name": "python3"
  },
  "language_info": {
   "codemirror_mode": {
    "name": "ipython",
    "version": 3
   },
   "file_extension": ".py",
   "mimetype": "text/x-python",
   "name": "python",
   "nbconvert_exporter": "python",
   "pygments_lexer": "ipython3",
   "version": "3.9.7"
  }
 },
 "nbformat": 4,
 "nbformat_minor": 5
}
